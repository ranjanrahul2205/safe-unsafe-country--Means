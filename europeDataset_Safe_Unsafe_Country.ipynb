{
  "nbformat": 4,
  "nbformat_minor": 0,
  "metadata": {
    "colab": {
      "name": "europeDataset-Safe-Unsafe-Country.ipynb",
      "provenance": []
    },
    "kernelspec": {
      "name": "python3",
      "display_name": "Python 3"
    },
    "language_info": {
      "name": "python"
    }
  },
  "cells": [
    {
      "cell_type": "code",
      "metadata": {
        "id": "wV1Nh2804S-9"
      },
      "source": [
        "import numpy as np\n",
        "import pandas as pd"
      ],
      "execution_count": 66,
      "outputs": []
    },
    {
      "cell_type": "code",
      "metadata": {
        "id": "Q7b5LkfoIxmL"
      },
      "source": [
        "df1=pd.read_csv(\"/content/crime_2016.csv\")\n",
        "df2=pd.read_csv(\"/content/pollution_2016.csv\")\n",
        "df3=pd.read_csv(\"/content/trust_in_legal_2013.csv\")\n",
        "df4=pd.read_csv(\"/content/trust_in_police_2013.csv\")\n",
        "df5=pd.read_csv(\"/content/trust_in_politics_2013.csv\")\n",
        "df6=pd.read_csv(\"/content/gdp_2016.csv\")\n",
        "df7=pd.read_csv(\"/content/perceived_health_2016.csv\")\n",
        "df8=pd.read_csv(\"/content/population_2011.csv\")\n",
        "df9=pd.read_csv(\"/content/unemployment_2016.csv\")"
      ],
      "execution_count": 67,
      "outputs": []
    },
    {
      "cell_type": "markdown",
      "metadata": {
        "id": "kR8wGOJ2fTKl"
      },
      "source": [
        "Merging all the dataframes together."
      ]
    },
    {
      "cell_type": "code",
      "metadata": {
        "id": "9hx-tvUpJmaR"
      },
      "source": [
        "from functools import reduce\n",
        "df=reduce(lambda x,y: pd.merge(x,y, on='country', how='inner'), \n",
        "            [df1, df2, df3, df4, df5, df6, df7, df8, df9])"
      ],
      "execution_count": 68,
      "outputs": []
    },
    {
      "cell_type": "code",
      "metadata": {
        "colab": {
          "base_uri": "https://localhost:8080/",
          "height": 211
        },
        "id": "StHgRwWWJ6jj",
        "outputId": "3f41f7f8-4541-411c-a908-898befa14128"
      },
      "source": [
        "df.head()"
      ],
      "execution_count": 69,
      "outputs": [
        {
          "output_type": "execute_result",
          "data": {
            "text/html": [
              "<div>\n",
              "<style scoped>\n",
              "    .dataframe tbody tr th:only-of-type {\n",
              "        vertical-align: middle;\n",
              "    }\n",
              "\n",
              "    .dataframe tbody tr th {\n",
              "        vertical-align: top;\n",
              "    }\n",
              "\n",
              "    .dataframe thead th {\n",
              "        text-align: right;\n",
              "    }\n",
              "</style>\n",
              "<table border=\"1\" class=\"dataframe\">\n",
              "  <thead>\n",
              "    <tr style=\"text-align: right;\">\n",
              "      <th></th>\n",
              "      <th>country</th>\n",
              "      <th>prct_rpt_crime</th>\n",
              "      <th>prct_rpt_pollution</th>\n",
              "      <th>legal_trust_rating</th>\n",
              "      <th>police_trust_rating</th>\n",
              "      <th>political_trust_rating</th>\n",
              "      <th>gdp</th>\n",
              "      <th>prct_health_verygood</th>\n",
              "      <th>prct_health_good</th>\n",
              "      <th>prct_health_fair</th>\n",
              "      <th>prct_health_bad</th>\n",
              "      <th>prct_health_verybad</th>\n",
              "      <th>total_pop</th>\n",
              "      <th>prct_yng_adt_pop</th>\n",
              "      <th>unemp_rate</th>\n",
              "    </tr>\n",
              "  </thead>\n",
              "  <tbody>\n",
              "    <tr>\n",
              "      <th>0</th>\n",
              "      <td>Austria</td>\n",
              "      <td>12.4</td>\n",
              "      <td>10.7</td>\n",
              "      <td>6.0</td>\n",
              "      <td>7.2</td>\n",
              "      <td>4.4</td>\n",
              "      <td>356237.6</td>\n",
              "      <td>31.9</td>\n",
              "      <td>38.3</td>\n",
              "      <td>21.6</td>\n",
              "      <td>6.4</td>\n",
              "      <td>1.7</td>\n",
              "      <td>8401940</td>\n",
              "      <td>18.677544</td>\n",
              "      <td>6.0</td>\n",
              "    </tr>\n",
              "    <tr>\n",
              "      <th>1</th>\n",
              "      <td>Belgium</td>\n",
              "      <td>13.4</td>\n",
              "      <td>13.2</td>\n",
              "      <td>5.0</td>\n",
              "      <td>6.1</td>\n",
              "      <td>4.6</td>\n",
              "      <td>424660.3</td>\n",
              "      <td>29.8</td>\n",
              "      <td>43.9</td>\n",
              "      <td>17.0</td>\n",
              "      <td>7.2</td>\n",
              "      <td>2.0</td>\n",
              "      <td>11000638</td>\n",
              "      <td>18.485146</td>\n",
              "      <td>7.8</td>\n",
              "    </tr>\n",
              "    <tr>\n",
              "      <th>2</th>\n",
              "      <td>Bulgaria</td>\n",
              "      <td>25.0</td>\n",
              "      <td>15.1</td>\n",
              "      <td>3.0</td>\n",
              "      <td>3.6</td>\n",
              "      <td>2.6</td>\n",
              "      <td>48128.6</td>\n",
              "      <td>19.1</td>\n",
              "      <td>46.7</td>\n",
              "      <td>23.2</td>\n",
              "      <td>8.7</td>\n",
              "      <td>2.3</td>\n",
              "      <td>7364570</td>\n",
              "      <td>18.432577</td>\n",
              "      <td>7.6</td>\n",
              "    </tr>\n",
              "    <tr>\n",
              "      <th>3</th>\n",
              "      <td>Switzerland</td>\n",
              "      <td>10.9</td>\n",
              "      <td>8.9</td>\n",
              "      <td>7.0</td>\n",
              "      <td>7.4</td>\n",
              "      <td>6.6</td>\n",
              "      <td>605753.7</td>\n",
              "      <td>33.2</td>\n",
              "      <td>44.5</td>\n",
              "      <td>17.8</td>\n",
              "      <td>3.8</td>\n",
              "      <td>0.7</td>\n",
              "      <td>7954662</td>\n",
              "      <td>18.445787</td>\n",
              "      <td>5.0</td>\n",
              "    </tr>\n",
              "    <tr>\n",
              "      <th>4</th>\n",
              "      <td>Cyprus</td>\n",
              "      <td>9.8</td>\n",
              "      <td>9.2</td>\n",
              "      <td>3.6</td>\n",
              "      <td>4.7</td>\n",
              "      <td>2.6</td>\n",
              "      <td>18490.2</td>\n",
              "      <td>44.1</td>\n",
              "      <td>34.6</td>\n",
              "      <td>16.8</td>\n",
              "      <td>3.8</td>\n",
              "      <td>0.7</td>\n",
              "      <td>840407</td>\n",
              "      <td>23.322628</td>\n",
              "      <td>13.0</td>\n",
              "    </tr>\n",
              "  </tbody>\n",
              "</table>\n",
              "</div>"
            ],
            "text/plain": [
              "       country  prct_rpt_crime  ...  prct_yng_adt_pop  unemp_rate\n",
              "0      Austria            12.4  ...         18.677544         6.0\n",
              "1      Belgium            13.4  ...         18.485146         7.8\n",
              "2     Bulgaria            25.0  ...         18.432577         7.6\n",
              "3  Switzerland            10.9  ...         18.445787         5.0\n",
              "4       Cyprus             9.8  ...         23.322628        13.0\n",
              "\n",
              "[5 rows x 15 columns]"
            ]
          },
          "metadata": {
            "tags": []
          },
          "execution_count": 69
        }
      ]
    },
    {
      "cell_type": "code",
      "metadata": {
        "colab": {
          "base_uri": "https://localhost:8080/"
        },
        "id": "6TsZ-jeyKBAx",
        "outputId": "b6c5abe6-45cd-493c-8f11-2a4424f18120"
      },
      "source": [
        "df['country'].unique()"
      ],
      "execution_count": 70,
      "outputs": [
        {
          "output_type": "execute_result",
          "data": {
            "text/plain": [
              "array(['Austria', 'Belgium', 'Bulgaria', 'Switzerland', 'Cyprus',\n",
              "       'Czechia', 'Germany', 'Denmark', 'Estonia', 'Greece', 'Spain',\n",
              "       'Finland', 'France', 'Croatia', 'Hungary', 'Ireland', 'Iceland',\n",
              "       'Italy', 'Lithuania', 'Luxembourg', 'Latvia', 'Malta',\n",
              "       'Netherlands', 'Norway', 'Poland', 'Portugal', 'Romania', 'Sweden',\n",
              "       'Slovenia', 'Slovakia', 'Turkey', 'United Kingdom'], dtype=object)"
            ]
          },
          "metadata": {
            "tags": []
          },
          "execution_count": 70
        }
      ]
    },
    {
      "cell_type": "markdown",
      "metadata": {
        "id": "zjLzRZ9yfa6q"
      },
      "source": [
        "There are a total of 32 unique countries."
      ]
    },
    {
      "cell_type": "code",
      "metadata": {
        "colab": {
          "base_uri": "https://localhost:8080/"
        },
        "id": "p3tXoNWIKcZz",
        "outputId": "49bd5b6c-d950-43ed-dbdc-4fbb55281abb"
      },
      "source": [
        "print(len(df['country'].unique()))"
      ],
      "execution_count": 71,
      "outputs": [
        {
          "output_type": "stream",
          "text": [
            "32\n"
          ],
          "name": "stdout"
        }
      ]
    },
    {
      "cell_type": "code",
      "metadata": {
        "id": "lxAHQZTOKknp"
      },
      "source": [
        "X = df.drop(['country'], axis = 1)"
      ],
      "execution_count": 72,
      "outputs": []
    },
    {
      "cell_type": "code",
      "metadata": {
        "colab": {
          "base_uri": "https://localhost:8080/",
          "height": 211
        },
        "id": "r76vF3jbKpnb",
        "outputId": "a2ff09c4-171f-4e5e-e691-c1df09ad7132"
      },
      "source": [
        "X.head()"
      ],
      "execution_count": 73,
      "outputs": [
        {
          "output_type": "execute_result",
          "data": {
            "text/html": [
              "<div>\n",
              "<style scoped>\n",
              "    .dataframe tbody tr th:only-of-type {\n",
              "        vertical-align: middle;\n",
              "    }\n",
              "\n",
              "    .dataframe tbody tr th {\n",
              "        vertical-align: top;\n",
              "    }\n",
              "\n",
              "    .dataframe thead th {\n",
              "        text-align: right;\n",
              "    }\n",
              "</style>\n",
              "<table border=\"1\" class=\"dataframe\">\n",
              "  <thead>\n",
              "    <tr style=\"text-align: right;\">\n",
              "      <th></th>\n",
              "      <th>prct_rpt_crime</th>\n",
              "      <th>prct_rpt_pollution</th>\n",
              "      <th>legal_trust_rating</th>\n",
              "      <th>police_trust_rating</th>\n",
              "      <th>political_trust_rating</th>\n",
              "      <th>gdp</th>\n",
              "      <th>prct_health_verygood</th>\n",
              "      <th>prct_health_good</th>\n",
              "      <th>prct_health_fair</th>\n",
              "      <th>prct_health_bad</th>\n",
              "      <th>prct_health_verybad</th>\n",
              "      <th>total_pop</th>\n",
              "      <th>prct_yng_adt_pop</th>\n",
              "      <th>unemp_rate</th>\n",
              "    </tr>\n",
              "  </thead>\n",
              "  <tbody>\n",
              "    <tr>\n",
              "      <th>0</th>\n",
              "      <td>12.4</td>\n",
              "      <td>10.7</td>\n",
              "      <td>6.0</td>\n",
              "      <td>7.2</td>\n",
              "      <td>4.4</td>\n",
              "      <td>356237.6</td>\n",
              "      <td>31.9</td>\n",
              "      <td>38.3</td>\n",
              "      <td>21.6</td>\n",
              "      <td>6.4</td>\n",
              "      <td>1.7</td>\n",
              "      <td>8401940</td>\n",
              "      <td>18.677544</td>\n",
              "      <td>6.0</td>\n",
              "    </tr>\n",
              "    <tr>\n",
              "      <th>1</th>\n",
              "      <td>13.4</td>\n",
              "      <td>13.2</td>\n",
              "      <td>5.0</td>\n",
              "      <td>6.1</td>\n",
              "      <td>4.6</td>\n",
              "      <td>424660.3</td>\n",
              "      <td>29.8</td>\n",
              "      <td>43.9</td>\n",
              "      <td>17.0</td>\n",
              "      <td>7.2</td>\n",
              "      <td>2.0</td>\n",
              "      <td>11000638</td>\n",
              "      <td>18.485146</td>\n",
              "      <td>7.8</td>\n",
              "    </tr>\n",
              "    <tr>\n",
              "      <th>2</th>\n",
              "      <td>25.0</td>\n",
              "      <td>15.1</td>\n",
              "      <td>3.0</td>\n",
              "      <td>3.6</td>\n",
              "      <td>2.6</td>\n",
              "      <td>48128.6</td>\n",
              "      <td>19.1</td>\n",
              "      <td>46.7</td>\n",
              "      <td>23.2</td>\n",
              "      <td>8.7</td>\n",
              "      <td>2.3</td>\n",
              "      <td>7364570</td>\n",
              "      <td>18.432577</td>\n",
              "      <td>7.6</td>\n",
              "    </tr>\n",
              "    <tr>\n",
              "      <th>3</th>\n",
              "      <td>10.9</td>\n",
              "      <td>8.9</td>\n",
              "      <td>7.0</td>\n",
              "      <td>7.4</td>\n",
              "      <td>6.6</td>\n",
              "      <td>605753.7</td>\n",
              "      <td>33.2</td>\n",
              "      <td>44.5</td>\n",
              "      <td>17.8</td>\n",
              "      <td>3.8</td>\n",
              "      <td>0.7</td>\n",
              "      <td>7954662</td>\n",
              "      <td>18.445787</td>\n",
              "      <td>5.0</td>\n",
              "    </tr>\n",
              "    <tr>\n",
              "      <th>4</th>\n",
              "      <td>9.8</td>\n",
              "      <td>9.2</td>\n",
              "      <td>3.6</td>\n",
              "      <td>4.7</td>\n",
              "      <td>2.6</td>\n",
              "      <td>18490.2</td>\n",
              "      <td>44.1</td>\n",
              "      <td>34.6</td>\n",
              "      <td>16.8</td>\n",
              "      <td>3.8</td>\n",
              "      <td>0.7</td>\n",
              "      <td>840407</td>\n",
              "      <td>23.322628</td>\n",
              "      <td>13.0</td>\n",
              "    </tr>\n",
              "  </tbody>\n",
              "</table>\n",
              "</div>"
            ],
            "text/plain": [
              "   prct_rpt_crime  prct_rpt_pollution  ...  prct_yng_adt_pop  unemp_rate\n",
              "0            12.4                10.7  ...         18.677544         6.0\n",
              "1            13.4                13.2  ...         18.485146         7.8\n",
              "2            25.0                15.1  ...         18.432577         7.6\n",
              "3            10.9                 8.9  ...         18.445787         5.0\n",
              "4             9.8                 9.2  ...         23.322628        13.0\n",
              "\n",
              "[5 rows x 14 columns]"
            ]
          },
          "metadata": {
            "tags": []
          },
          "execution_count": 73
        }
      ]
    },
    {
      "cell_type": "code",
      "metadata": {
        "colab": {
          "base_uri": "https://localhost:8080/"
        },
        "id": "a6dAdF6cLbsS",
        "outputId": "206e1f96-5e65-4ad6-f153-7ef0109f7cdf"
      },
      "source": [
        "df.isnull().sum()"
      ],
      "execution_count": 74,
      "outputs": [
        {
          "output_type": "execute_result",
          "data": {
            "text/plain": [
              "country                   0\n",
              "prct_rpt_crime            0\n",
              "prct_rpt_pollution        0\n",
              "legal_trust_rating        0\n",
              "police_trust_rating       0\n",
              "political_trust_rating    0\n",
              "gdp                       0\n",
              "prct_health_verygood      0\n",
              "prct_health_good          0\n",
              "prct_health_fair          0\n",
              "prct_health_bad           0\n",
              "prct_health_verybad       0\n",
              "total_pop                 0\n",
              "prct_yng_adt_pop          0\n",
              "unemp_rate                0\n",
              "dtype: int64"
            ]
          },
          "metadata": {
            "tags": []
          },
          "execution_count": 74
        }
      ]
    },
    {
      "cell_type": "code",
      "metadata": {
        "colab": {
          "base_uri": "https://localhost:8080/",
          "height": 297
        },
        "id": "g9EuFMtCLhlv",
        "outputId": "456adc21-8875-430d-d4e6-d796618895bb"
      },
      "source": [
        "df.describe()"
      ],
      "execution_count": 75,
      "outputs": [
        {
          "output_type": "execute_result",
          "data": {
            "text/html": [
              "<div>\n",
              "<style scoped>\n",
              "    .dataframe tbody tr th:only-of-type {\n",
              "        vertical-align: middle;\n",
              "    }\n",
              "\n",
              "    .dataframe tbody tr th {\n",
              "        vertical-align: top;\n",
              "    }\n",
              "\n",
              "    .dataframe thead th {\n",
              "        text-align: right;\n",
              "    }\n",
              "</style>\n",
              "<table border=\"1\" class=\"dataframe\">\n",
              "  <thead>\n",
              "    <tr style=\"text-align: right;\">\n",
              "      <th></th>\n",
              "      <th>prct_rpt_crime</th>\n",
              "      <th>prct_rpt_pollution</th>\n",
              "      <th>legal_trust_rating</th>\n",
              "      <th>police_trust_rating</th>\n",
              "      <th>political_trust_rating</th>\n",
              "      <th>gdp</th>\n",
              "      <th>prct_health_verygood</th>\n",
              "      <th>prct_health_good</th>\n",
              "      <th>prct_health_fair</th>\n",
              "      <th>prct_health_bad</th>\n",
              "      <th>prct_health_verybad</th>\n",
              "      <th>total_pop</th>\n",
              "      <th>prct_yng_adt_pop</th>\n",
              "      <th>unemp_rate</th>\n",
              "    </tr>\n",
              "  </thead>\n",
              "  <tbody>\n",
              "    <tr>\n",
              "      <th>count</th>\n",
              "      <td>32.000000</td>\n",
              "      <td>32.00000</td>\n",
              "      <td>32.000000</td>\n",
              "      <td>32.000000</td>\n",
              "      <td>32.00000</td>\n",
              "      <td>3.200000e+01</td>\n",
              "      <td>32.000000</td>\n",
              "      <td>32.000000</td>\n",
              "      <td>32.000000</td>\n",
              "      <td>32.000000</td>\n",
              "      <td>32.00000</td>\n",
              "      <td>3.200000e+01</td>\n",
              "      <td>32.000000</td>\n",
              "      <td>32.000000</td>\n",
              "    </tr>\n",
              "    <tr>\n",
              "      <th>mean</th>\n",
              "      <td>10.575000</td>\n",
              "      <td>12.87500</td>\n",
              "      <td>4.934375</td>\n",
              "      <td>6.106452</td>\n",
              "      <td>4.01875</td>\n",
              "      <td>5.218333e+05</td>\n",
              "      <td>22.990625</td>\n",
              "      <td>44.321875</td>\n",
              "      <td>23.278125</td>\n",
              "      <td>7.587500</td>\n",
              "      <td>1.80000</td>\n",
              "      <td>1.637612e+07</td>\n",
              "      <td>19.111593</td>\n",
              "      <td>8.337500</td>\n",
              "    </tr>\n",
              "    <tr>\n",
              "      <th>std</th>\n",
              "      <td>4.608407</td>\n",
              "      <td>5.69397</td>\n",
              "      <td>1.348741</td>\n",
              "      <td>1.052473</td>\n",
              "      <td>1.38923</td>\n",
              "      <td>7.781849e+05</td>\n",
              "      <td>10.664937</td>\n",
              "      <td>7.196224</td>\n",
              "      <td>6.288891</td>\n",
              "      <td>3.222677</td>\n",
              "      <td>0.87768</td>\n",
              "      <td>2.198819e+07</td>\n",
              "      <td>1.649615</td>\n",
              "      <td>4.393378</td>\n",
              "    </tr>\n",
              "    <tr>\n",
              "      <th>min</th>\n",
              "      <td>2.200000</td>\n",
              "      <td>4.60000</td>\n",
              "      <td>2.700000</td>\n",
              "      <td>3.600000</td>\n",
              "      <td>1.70000</td>\n",
              "      <td>1.034410e+04</td>\n",
              "      <td>5.100000</td>\n",
              "      <td>29.000000</td>\n",
              "      <td>13.700000</td>\n",
              "      <td>2.600000</td>\n",
              "      <td>0.50000</td>\n",
              "      <td>3.155560e+05</td>\n",
              "      <td>15.474973</td>\n",
              "      <td>3.000000</td>\n",
              "    </tr>\n",
              "    <tr>\n",
              "      <th>25%</th>\n",
              "      <td>8.250000</td>\n",
              "      <td>8.97500</td>\n",
              "      <td>3.750000</td>\n",
              "      <td>5.400000</td>\n",
              "      <td>2.95000</td>\n",
              "      <td>4.775632e+04</td>\n",
              "      <td>17.175000</td>\n",
              "      <td>40.575000</td>\n",
              "      <td>19.200000</td>\n",
              "      <td>5.300000</td>\n",
              "      <td>1.20000</td>\n",
              "      <td>3.974524e+06</td>\n",
              "      <td>18.336042</td>\n",
              "      <td>5.700000</td>\n",
              "    </tr>\n",
              "    <tr>\n",
              "      <th>50%</th>\n",
              "      <td>10.350000</td>\n",
              "      <td>12.95000</td>\n",
              "      <td>5.050000</td>\n",
              "      <td>6.100000</td>\n",
              "      <td>4.10000</td>\n",
              "      <td>2.012768e+05</td>\n",
              "      <td>22.350000</td>\n",
              "      <td>44.000000</td>\n",
              "      <td>21.950000</td>\n",
              "      <td>7.000000</td>\n",
              "      <td>1.70000</td>\n",
              "      <td>7.954662e+06</td>\n",
              "      <td>18.713960</td>\n",
              "      <td>7.300000</td>\n",
              "    </tr>\n",
              "    <tr>\n",
              "      <th>75%</th>\n",
              "      <td>12.875000</td>\n",
              "      <td>15.22500</td>\n",
              "      <td>5.725000</td>\n",
              "      <td>6.675000</td>\n",
              "      <td>4.92500</td>\n",
              "      <td>4.987990e+05</td>\n",
              "      <td>29.200000</td>\n",
              "      <td>46.825000</td>\n",
              "      <td>25.750000</td>\n",
              "      <td>9.250000</td>\n",
              "      <td>2.37500</td>\n",
              "      <td>1.241443e+07</td>\n",
              "      <td>20.067451</td>\n",
              "      <td>9.800000</td>\n",
              "    </tr>\n",
              "    <tr>\n",
              "      <th>max</th>\n",
              "      <td>25.000000</td>\n",
              "      <td>30.20000</td>\n",
              "      <td>7.500000</td>\n",
              "      <td>8.200000</td>\n",
              "      <td>6.60000</td>\n",
              "      <td>3.159750e+06</td>\n",
              "      <td>45.000000</td>\n",
              "      <td>62.300000</td>\n",
              "      <td>39.600000</td>\n",
              "      <td>14.800000</td>\n",
              "      <td>3.80000</td>\n",
              "      <td>8.021970e+07</td>\n",
              "      <td>23.322628</td>\n",
              "      <td>23.600000</td>\n",
              "    </tr>\n",
              "  </tbody>\n",
              "</table>\n",
              "</div>"
            ],
            "text/plain": [
              "       prct_rpt_crime  prct_rpt_pollution  ...  prct_yng_adt_pop  unemp_rate\n",
              "count       32.000000            32.00000  ...         32.000000   32.000000\n",
              "mean        10.575000            12.87500  ...         19.111593    8.337500\n",
              "std          4.608407             5.69397  ...          1.649615    4.393378\n",
              "min          2.200000             4.60000  ...         15.474973    3.000000\n",
              "25%          8.250000             8.97500  ...         18.336042    5.700000\n",
              "50%         10.350000            12.95000  ...         18.713960    7.300000\n",
              "75%         12.875000            15.22500  ...         20.067451    9.800000\n",
              "max         25.000000            30.20000  ...         23.322628   23.600000\n",
              "\n",
              "[8 rows x 14 columns]"
            ]
          },
          "metadata": {
            "tags": []
          },
          "execution_count": 75
        }
      ]
    },
    {
      "cell_type": "markdown",
      "metadata": {
        "id": "gNOZ-am9fi12"
      },
      "source": [
        "We will use elbow method to find the number of clusters that is best suited."
      ]
    },
    {
      "cell_type": "code",
      "metadata": {
        "id": "zVdCptrcK2hI"
      },
      "source": [
        "from sklearn.cluster import KMeans\n",
        "sq_dist=[] # initialize\n",
        "\n",
        "for k in range(1,8):\n",
        "    km=KMeans(n_clusters=k)\n",
        "    km=km.fit(X)\n",
        "    sq_dist.append(km.inertia_)"
      ],
      "execution_count": 76,
      "outputs": []
    },
    {
      "cell_type": "markdown",
      "metadata": {
        "id": "kXEylgdJfp7H"
      },
      "source": [
        "Plotting the variation of sum of squared distance with increasing k (no of clusters)"
      ]
    },
    {
      "cell_type": "code",
      "metadata": {
        "colab": {
          "base_uri": "https://localhost:8080/",
          "height": 295
        },
        "id": "AULBMVbWL878",
        "outputId": "667a6380-16b8-4ac9-e5c2-99de88fee9da"
      },
      "source": [
        "import matplotlib.pyplot as plt\n",
        "\n",
        "plt.plot(range(1,8),sq_dist)\n",
        "plt.xlabel('k clusters')\n",
        "plt.ylabel('Sum of Squared Distances')\n",
        "plt.title('Elbow Method')\n",
        "plt.show()"
      ],
      "execution_count": 77,
      "outputs": [
        {
          "output_type": "display_data",
          "data": {
            "image/png": "[encoded data removed]",
            "text/plain": [
              "<Figure size 432x288 with 1 Axes>"
            ]
          },
          "metadata": {
            "tags": [],
            "needs_background": "light"
          }
        }
      ]
    },
    {
      "cell_type": "markdown",
      "metadata": {
        "id": "SW8s6T5_f2Fh"
      },
      "source": [
        "Use of silhouette to find optimal number of clusters."
      ]
    },
    {
      "cell_type": "code",
      "metadata": {
        "colab": {
          "base_uri": "https://localhost:8080/"
        },
        "id": "39hKyqNNMfmA",
        "outputId": "8b5db1a4-d07a-4646-fd76-d257459ad9a2"
      },
      "source": [
        "from sklearn.metrics import silhouette_samples, silhouette_score\n",
        "avg_score = []\n",
        "for n_clusters in range(2,8): \n",
        "    clusterer=KMeans(n_clusters=n_clusters,random_state=10)\n",
        "    cluster_labels=clusterer.fit_predict(X)\n",
        "    silhouette_avg=silhouette_score(X,cluster_labels)\n",
        "    avg_score.append(silhouette_avg)\n",
        "    print(\"When clusters = \",n_clusters, \"the average silhouette score is\", round(silhouette_avg,3))"
      ],
      "execution_count": 78,
      "outputs": [
        {
          "output_type": "stream",
          "text": [
            "When clusters =  2 the average silhouette score is 0.838\n",
            "When clusters =  3 the average silhouette score is 0.786\n",
            "When clusters =  4 the average silhouette score is 0.59\n",
            "When clusters =  5 the average silhouette score is 0.587\n",
            "When clusters =  6 the average silhouette score is 0.621\n",
            "When clusters =  7 the average silhouette score is 0.629\n"
          ],
          "name": "stdout"
        }
      ]
    },
    {
      "cell_type": "markdown",
      "metadata": {
        "id": "eQbIsLf5f9O8"
      },
      "source": [
        "Plotting variation of silhoutte to number of clusters. In both the methods used we see that k = 2 is the best choice as there was elbow for k = 2 and the average silhouette is also maximum for k = 2"
      ]
    },
    {
      "cell_type": "code",
      "metadata": {
        "colab": {
          "base_uri": "https://localhost:8080/",
          "height": 295
        },
        "id": "VgKvMgUCR5cO",
        "outputId": "79b623fd-6c7b-496e-951d-21d957b841d4"
      },
      "source": [
        "plt.plot(range(2,8),avg_score)\n",
        "plt.xlabel('k clusters')\n",
        "plt.ylabel('average silhouette score')\n",
        "plt.title('Varaition of silhouette score with clusters')\n",
        "plt.show()"
      ],
      "execution_count": 79,
      "outputs": [
        {
          "output_type": "display_data",
          "data": {
            "image/png": "[encoded data removed]",
            "text/plain": [
              "<Figure size 432x288 with 1 Axes>"
            ]
          },
          "metadata": {
            "tags": [],
            "needs_background": "light"
          }
        }
      ]
    },
    {
      "cell_type": "markdown",
      "metadata": {
        "id": "S1mi66NwgQ80"
      },
      "source": [
        "Training the model."
      ]
    },
    {
      "cell_type": "code",
      "metadata": {
        "id": "YVvGn4tJSgwQ"
      },
      "source": [
        "kmeans=KMeans(n_clusters=2)\n",
        "kmeans=kmeans.fit(X)"
      ],
      "execution_count": 80,
      "outputs": []
    },
    {
      "cell_type": "code",
      "metadata": {
        "colab": {
          "base_uri": "https://localhost:8080/"
        },
        "id": "s_l-fYH0Wg7u",
        "outputId": "ad3e71b0-4e79-49a5-b158-b51500eec1a9"
      },
      "source": [
        "kmeans.inertia_"
      ],
      "execution_count": 81,
      "outputs": [
        {
          "output_type": "execute_result",
          "data": {
            "text/plain": [
              "1720958280941978.0"
            ]
          },
          "metadata": {
            "tags": []
          },
          "execution_count": 81
        }
      ]
    },
    {
      "cell_type": "code",
      "metadata": {
        "colab": {
          "base_uri": "https://localhost:8080/"
        },
        "id": "utbWT_RiWmC5",
        "outputId": "867e01f0-ad4c-4806-8396-25df4d6e9d0c"
      },
      "source": [
        "kmeans.cluster_centers_"
      ],
      "execution_count": 82,
      "outputs": [
        {
          "output_type": "execute_result",
          "data": {
            "text/plain": [
              "array([[1.00807692e+01, 1.26576923e+01, 5.06538462e+00, 6.17717122e+00,\n",
              "        4.20769231e+00, 2.18148077e+05, 2.39615385e+01, 4.34038462e+01,\n",
              "        2.31115385e+01, 7.65384615e+00, 1.84230769e+00, 6.59254931e+06,\n",
              "        1.93050172e+01, 8.08846154e+00],\n",
              "       [1.27166667e+01, 1.38166667e+01, 4.36666667e+00, 5.80000000e+00,\n",
              "        3.20000000e+00, 1.83780252e+06, 1.87833333e+01, 4.83000000e+01,\n",
              "        2.40000000e+01, 7.30000000e+00, 1.61666667e+00, 5.87715823e+07,\n",
              "        1.82734199e+01, 9.41666667e+00]])"
            ]
          },
          "metadata": {
            "tags": []
          },
          "execution_count": 82
        }
      ]
    },
    {
      "cell_type": "code",
      "metadata": {
        "colab": {
          "base_uri": "https://localhost:8080/"
        },
        "id": "PEjO5qkDWqyT",
        "outputId": "4aeb381d-e8f2-4842-8e6e-def31fab14be"
      },
      "source": [
        "kmeans.labels_"
      ],
      "execution_count": 83,
      "outputs": [
        {
          "output_type": "execute_result",
          "data": {
            "text/plain": [
              "array([0, 0, 0, 0, 0, 0, 1, 0, 0, 0, 1, 0, 1, 0, 0, 0, 0, 1, 0, 0, 0, 0,\n",
              "       0, 0, 1, 0, 0, 0, 0, 0, 0, 1], dtype=int32)"
            ]
          },
          "metadata": {
            "tags": []
          },
          "execution_count": 83
        }
      ]
    },
    {
      "cell_type": "markdown",
      "metadata": {
        "id": "d0Cdo09IgZ4P"
      },
      "source": [
        "Getting names of all the attributes."
      ]
    },
    {
      "cell_type": "code",
      "metadata": {
        "id": "Ix0xyNy0W77X"
      },
      "source": [
        "col=list(X.columns.values) "
      ],
      "execution_count": 84,
      "outputs": []
    },
    {
      "cell_type": "code",
      "metadata": {
        "colab": {
          "base_uri": "https://localhost:8080/"
        },
        "id": "DawfKQCWZRaC",
        "outputId": "306ba98b-1633-4ab0-8b0e-e43360a537cd"
      },
      "source": [
        "col"
      ],
      "execution_count": 85,
      "outputs": [
        {
          "output_type": "execute_result",
          "data": {
            "text/plain": [
              "['prct_rpt_crime',\n",
              " 'prct_rpt_pollution',\n",
              " 'legal_trust_rating',\n",
              " 'police_trust_rating',\n",
              " 'political_trust_rating',\n",
              " 'gdp',\n",
              " 'prct_health_verygood',\n",
              " 'prct_health_good',\n",
              " 'prct_health_fair',\n",
              " 'prct_health_bad',\n",
              " 'prct_health_verybad',\n",
              " 'total_pop',\n",
              " 'prct_yng_adt_pop',\n",
              " 'unemp_rate']"
            ]
          },
          "metadata": {
            "tags": []
          },
          "execution_count": 85
        }
      ]
    },
    {
      "cell_type": "code",
      "metadata": {
        "id": "jVQ__J0cZZIy"
      },
      "source": [
        "count=df.iloc[:,0]"
      ],
      "execution_count": 86,
      "outputs": []
    },
    {
      "cell_type": "code",
      "metadata": {
        "id": "3SlhBX7BZbny"
      },
      "source": [
        "cluster_centres = kmeans.cluster_centers_.round(2)"
      ],
      "execution_count": 87,
      "outputs": []
    },
    {
      "cell_type": "code",
      "metadata": {
        "id": "d37WBVDlZuWs"
      },
      "source": [
        "ctr=pd.DataFrame(cluster_centres,columns=col)"
      ],
      "execution_count": 88,
      "outputs": []
    },
    {
      "cell_type": "code",
      "metadata": {
        "colab": {
          "base_uri": "https://localhost:8080/",
          "height": 125
        },
        "id": "PNQwlo82Z7Om",
        "outputId": "347931bc-2a76-4583-c05c-b3a1f4a72b17"
      },
      "source": [
        "ctr"
      ],
      "execution_count": 89,
      "outputs": [
        {
          "output_type": "execute_result",
          "data": {
            "text/html": [
              "<div>\n",
              "<style scoped>\n",
              "    .dataframe tbody tr th:only-of-type {\n",
              "        vertical-align: middle;\n",
              "    }\n",
              "\n",
              "    .dataframe tbody tr th {\n",
              "        vertical-align: top;\n",
              "    }\n",
              "\n",
              "    .dataframe thead th {\n",
              "        text-align: right;\n",
              "    }\n",
              "</style>\n",
              "<table border=\"1\" class=\"dataframe\">\n",
              "  <thead>\n",
              "    <tr style=\"text-align: right;\">\n",
              "      <th></th>\n",
              "      <th>prct_rpt_crime</th>\n",
              "      <th>prct_rpt_pollution</th>\n",
              "      <th>legal_trust_rating</th>\n",
              "      <th>police_trust_rating</th>\n",
              "      <th>political_trust_rating</th>\n",
              "      <th>gdp</th>\n",
              "      <th>prct_health_verygood</th>\n",
              "      <th>prct_health_good</th>\n",
              "      <th>prct_health_fair</th>\n",
              "      <th>prct_health_bad</th>\n",
              "      <th>prct_health_verybad</th>\n",
              "      <th>total_pop</th>\n",
              "      <th>prct_yng_adt_pop</th>\n",
              "      <th>unemp_rate</th>\n",
              "    </tr>\n",
              "  </thead>\n",
              "  <tbody>\n",
              "    <tr>\n",
              "      <th>0</th>\n",
              "      <td>10.08</td>\n",
              "      <td>12.66</td>\n",
              "      <td>5.07</td>\n",
              "      <td>6.18</td>\n",
              "      <td>4.21</td>\n",
              "      <td>218148.08</td>\n",
              "      <td>23.96</td>\n",
              "      <td>43.4</td>\n",
              "      <td>23.11</td>\n",
              "      <td>7.65</td>\n",
              "      <td>1.84</td>\n",
              "      <td>6592549.31</td>\n",
              "      <td>19.31</td>\n",
              "      <td>8.09</td>\n",
              "    </tr>\n",
              "    <tr>\n",
              "      <th>1</th>\n",
              "      <td>12.72</td>\n",
              "      <td>13.82</td>\n",
              "      <td>4.37</td>\n",
              "      <td>5.80</td>\n",
              "      <td>3.20</td>\n",
              "      <td>1837802.52</td>\n",
              "      <td>18.78</td>\n",
              "      <td>48.3</td>\n",
              "      <td>24.00</td>\n",
              "      <td>7.30</td>\n",
              "      <td>1.62</td>\n",
              "      <td>58771582.33</td>\n",
              "      <td>18.27</td>\n",
              "      <td>9.42</td>\n",
              "    </tr>\n",
              "  </tbody>\n",
              "</table>\n",
              "</div>"
            ],
            "text/plain": [
              "   prct_rpt_crime  prct_rpt_pollution  ...  prct_yng_adt_pop  unemp_rate\n",
              "0           10.08               12.66  ...             19.31        8.09\n",
              "1           12.72               13.82  ...             18.27        9.42\n",
              "\n",
              "[2 rows x 14 columns]"
            ]
          },
          "metadata": {
            "tags": []
          },
          "execution_count": 89
        }
      ]
    },
    {
      "cell_type": "code",
      "metadata": {
        "id": "quRcs4J4aSqL"
      },
      "source": [
        "df_centroids = ctr.transpose()"
      ],
      "execution_count": 90,
      "outputs": []
    },
    {
      "cell_type": "code",
      "metadata": {
        "colab": {
          "base_uri": "https://localhost:8080/",
          "height": 450
        },
        "id": "AvSji3vkaYpF",
        "outputId": "e6d9e5a1-8da0-4aef-b413-38b98060fc76"
      },
      "source": [
        "df_centroids"
      ],
      "execution_count": 91,
      "outputs": [
        {
          "output_type": "execute_result",
          "data": {
            "text/html": [
              "<div>\n",
              "<style scoped>\n",
              "    .dataframe tbody tr th:only-of-type {\n",
              "        vertical-align: middle;\n",
              "    }\n",
              "\n",
              "    .dataframe tbody tr th {\n",
              "        vertical-align: top;\n",
              "    }\n",
              "\n",
              "    .dataframe thead th {\n",
              "        text-align: right;\n",
              "    }\n",
              "</style>\n",
              "<table border=\"1\" class=\"dataframe\">\n",
              "  <thead>\n",
              "    <tr style=\"text-align: right;\">\n",
              "      <th></th>\n",
              "      <th>0</th>\n",
              "      <th>1</th>\n",
              "    </tr>\n",
              "  </thead>\n",
              "  <tbody>\n",
              "    <tr>\n",
              "      <th>prct_rpt_crime</th>\n",
              "      <td>10.08</td>\n",
              "      <td>12.72</td>\n",
              "    </tr>\n",
              "    <tr>\n",
              "      <th>prct_rpt_pollution</th>\n",
              "      <td>12.66</td>\n",
              "      <td>13.82</td>\n",
              "    </tr>\n",
              "    <tr>\n",
              "      <th>legal_trust_rating</th>\n",
              "      <td>5.07</td>\n",
              "      <td>4.37</td>\n",
              "    </tr>\n",
              "    <tr>\n",
              "      <th>police_trust_rating</th>\n",
              "      <td>6.18</td>\n",
              "      <td>5.80</td>\n",
              "    </tr>\n",
              "    <tr>\n",
              "      <th>political_trust_rating</th>\n",
              "      <td>4.21</td>\n",
              "      <td>3.20</td>\n",
              "    </tr>\n",
              "    <tr>\n",
              "      <th>gdp</th>\n",
              "      <td>218148.08</td>\n",
              "      <td>1837802.52</td>\n",
              "    </tr>\n",
              "    <tr>\n",
              "      <th>prct_health_verygood</th>\n",
              "      <td>23.96</td>\n",
              "      <td>18.78</td>\n",
              "    </tr>\n",
              "    <tr>\n",
              "      <th>prct_health_good</th>\n",
              "      <td>43.40</td>\n",
              "      <td>48.30</td>\n",
              "    </tr>\n",
              "    <tr>\n",
              "      <th>prct_health_fair</th>\n",
              "      <td>23.11</td>\n",
              "      <td>24.00</td>\n",
              "    </tr>\n",
              "    <tr>\n",
              "      <th>prct_health_bad</th>\n",
              "      <td>7.65</td>\n",
              "      <td>7.30</td>\n",
              "    </tr>\n",
              "    <tr>\n",
              "      <th>prct_health_verybad</th>\n",
              "      <td>1.84</td>\n",
              "      <td>1.62</td>\n",
              "    </tr>\n",
              "    <tr>\n",
              "      <th>total_pop</th>\n",
              "      <td>6592549.31</td>\n",
              "      <td>58771582.33</td>\n",
              "    </tr>\n",
              "    <tr>\n",
              "      <th>prct_yng_adt_pop</th>\n",
              "      <td>19.31</td>\n",
              "      <td>18.27</td>\n",
              "    </tr>\n",
              "    <tr>\n",
              "      <th>unemp_rate</th>\n",
              "      <td>8.09</td>\n",
              "      <td>9.42</td>\n",
              "    </tr>\n",
              "  </tbody>\n",
              "</table>\n",
              "</div>"
            ],
            "text/plain": [
              "                                 0            1\n",
              "prct_rpt_crime               10.08        12.72\n",
              "prct_rpt_pollution           12.66        13.82\n",
              "legal_trust_rating            5.07         4.37\n",
              "police_trust_rating           6.18         5.80\n",
              "political_trust_rating        4.21         3.20\n",
              "gdp                      218148.08   1837802.52\n",
              "prct_health_verygood         23.96        18.78\n",
              "prct_health_good             43.40        48.30\n",
              "prct_health_fair             23.11        24.00\n",
              "prct_health_bad               7.65         7.30\n",
              "prct_health_verybad           1.84         1.62\n",
              "total_pop               6592549.31  58771582.33\n",
              "prct_yng_adt_pop             19.31        18.27\n",
              "unemp_rate                    8.09         9.42"
            ]
          },
          "metadata": {
            "tags": []
          },
          "execution_count": 91
        }
      ]
    },
    {
      "cell_type": "code",
      "metadata": {
        "id": "DOsPwDryaol1"
      },
      "source": [
        "count_label=kmeans.labels_+1\n",
        "i\n",
        "ctry_sum={'country': count,\n",
        "          'cluster': count_label} \n",
        "ctry_sum=pd.DataFrame(ctry_sum,columns=['country','cluster'])"
      ],
      "execution_count": 92,
      "outputs": []
    },
    {
      "cell_type": "code",
      "metadata": {
        "colab": {
          "base_uri": "https://localhost:8080/"
        },
        "id": "FIK9EsJJerny",
        "outputId": "3443e32d-7fb3-472d-e472-ffcca6d9db83"
      },
      "source": [
        ""
      ],
      "execution_count": 100,
      "outputs": [
        {
          "output_type": "execute_result",
          "data": {
            "text/plain": [
              "array([1, 1, 1, 1, 1, 1, 2, 1, 1, 1, 2, 1, 2, 1, 1, 1, 1, 2, 1, 1, 1, 1,\n",
              "       1, 1, 2, 1, 1, 1, 1, 1, 1, 2], dtype=int32)"
            ]
          },
          "metadata": {
            "tags": []
          },
          "execution_count": 100
        }
      ]
    },
    {
      "cell_type": "code",
      "metadata": {
        "colab": {
          "base_uri": "https://localhost:8080/",
          "height": 967
        },
        "id": "OS35o51kc1HL",
        "outputId": "2d2d030b-671f-4f5e-a6c8-4c2209532c6c"
      },
      "source": [
        "ctry_sum"
      ],
      "execution_count": 96,
      "outputs": [
        {
          "output_type": "execute_result",
          "data": {
            "text/html": [
              "<div>\n",
              "<style scoped>\n",
              "    .dataframe tbody tr th:only-of-type {\n",
              "        vertical-align: middle;\n",
              "    }\n",
              "\n",
              "    .dataframe tbody tr th {\n",
              "        vertical-align: top;\n",
              "    }\n",
              "\n",
              "    .dataframe thead th {\n",
              "        text-align: right;\n",
              "    }\n",
              "</style>\n",
              "<table border=\"1\" class=\"dataframe\">\n",
              "  <thead>\n",
              "    <tr style=\"text-align: right;\">\n",
              "      <th></th>\n",
              "      <th>country</th>\n",
              "      <th>cluster</th>\n",
              "    </tr>\n",
              "  </thead>\n",
              "  <tbody>\n",
              "    <tr>\n",
              "      <th>0</th>\n",
              "      <td>Austria</td>\n",
              "      <td>1</td>\n",
              "    </tr>\n",
              "    <tr>\n",
              "      <th>1</th>\n",
              "      <td>Belgium</td>\n",
              "      <td>1</td>\n",
              "    </tr>\n",
              "    <tr>\n",
              "      <th>2</th>\n",
              "      <td>Bulgaria</td>\n",
              "      <td>1</td>\n",
              "    </tr>\n",
              "    <tr>\n",
              "      <th>3</th>\n",
              "      <td>Switzerland</td>\n",
              "      <td>1</td>\n",
              "    </tr>\n",
              "    <tr>\n",
              "      <th>4</th>\n",
              "      <td>Cyprus</td>\n",
              "      <td>1</td>\n",
              "    </tr>\n",
              "    <tr>\n",
              "      <th>5</th>\n",
              "      <td>Czechia</td>\n",
              "      <td>1</td>\n",
              "    </tr>\n",
              "    <tr>\n",
              "      <th>6</th>\n",
              "      <td>Germany</td>\n",
              "      <td>2</td>\n",
              "    </tr>\n",
              "    <tr>\n",
              "      <th>7</th>\n",
              "      <td>Denmark</td>\n",
              "      <td>1</td>\n",
              "    </tr>\n",
              "    <tr>\n",
              "      <th>8</th>\n",
              "      <td>Estonia</td>\n",
              "      <td>1</td>\n",
              "    </tr>\n",
              "    <tr>\n",
              "      <th>9</th>\n",
              "      <td>Greece</td>\n",
              "      <td>1</td>\n",
              "    </tr>\n",
              "    <tr>\n",
              "      <th>10</th>\n",
              "      <td>Spain</td>\n",
              "      <td>2</td>\n",
              "    </tr>\n",
              "    <tr>\n",
              "      <th>11</th>\n",
              "      <td>Finland</td>\n",
              "      <td>1</td>\n",
              "    </tr>\n",
              "    <tr>\n",
              "      <th>12</th>\n",
              "      <td>France</td>\n",
              "      <td>2</td>\n",
              "    </tr>\n",
              "    <tr>\n",
              "      <th>13</th>\n",
              "      <td>Croatia</td>\n",
              "      <td>1</td>\n",
              "    </tr>\n",
              "    <tr>\n",
              "      <th>14</th>\n",
              "      <td>Hungary</td>\n",
              "      <td>1</td>\n",
              "    </tr>\n",
              "    <tr>\n",
              "      <th>15</th>\n",
              "      <td>Ireland</td>\n",
              "      <td>1</td>\n",
              "    </tr>\n",
              "    <tr>\n",
              "      <th>16</th>\n",
              "      <td>Iceland</td>\n",
              "      <td>1</td>\n",
              "    </tr>\n",
              "    <tr>\n",
              "      <th>17</th>\n",
              "      <td>Italy</td>\n",
              "      <td>2</td>\n",
              "    </tr>\n",
              "    <tr>\n",
              "      <th>18</th>\n",
              "      <td>Lithuania</td>\n",
              "      <td>1</td>\n",
              "    </tr>\n",
              "    <tr>\n",
              "      <th>19</th>\n",
              "      <td>Luxembourg</td>\n",
              "      <td>1</td>\n",
              "    </tr>\n",
              "    <tr>\n",
              "      <th>20</th>\n",
              "      <td>Latvia</td>\n",
              "      <td>1</td>\n",
              "    </tr>\n",
              "    <tr>\n",
              "      <th>21</th>\n",
              "      <td>Malta</td>\n",
              "      <td>1</td>\n",
              "    </tr>\n",
              "    <tr>\n",
              "      <th>22</th>\n",
              "      <td>Netherlands</td>\n",
              "      <td>1</td>\n",
              "    </tr>\n",
              "    <tr>\n",
              "      <th>23</th>\n",
              "      <td>Norway</td>\n",
              "      <td>1</td>\n",
              "    </tr>\n",
              "    <tr>\n",
              "      <th>24</th>\n",
              "      <td>Poland</td>\n",
              "      <td>2</td>\n",
              "    </tr>\n",
              "    <tr>\n",
              "      <th>25</th>\n",
              "      <td>Portugal</td>\n",
              "      <td>1</td>\n",
              "    </tr>\n",
              "    <tr>\n",
              "      <th>26</th>\n",
              "      <td>Romania</td>\n",
              "      <td>1</td>\n",
              "    </tr>\n",
              "    <tr>\n",
              "      <th>27</th>\n",
              "      <td>Sweden</td>\n",
              "      <td>1</td>\n",
              "    </tr>\n",
              "    <tr>\n",
              "      <th>28</th>\n",
              "      <td>Slovenia</td>\n",
              "      <td>1</td>\n",
              "    </tr>\n",
              "    <tr>\n",
              "      <th>29</th>\n",
              "      <td>Slovakia</td>\n",
              "      <td>1</td>\n",
              "    </tr>\n",
              "    <tr>\n",
              "      <th>30</th>\n",
              "      <td>Turkey</td>\n",
              "      <td>1</td>\n",
              "    </tr>\n",
              "    <tr>\n",
              "      <th>31</th>\n",
              "      <td>United Kingdom</td>\n",
              "      <td>2</td>\n",
              "    </tr>\n",
              "  </tbody>\n",
              "</table>\n",
              "</div>"
            ],
            "text/plain": [
              "           country  cluster\n",
              "0          Austria        1\n",
              "1          Belgium        1\n",
              "2         Bulgaria        1\n",
              "3      Switzerland        1\n",
              "4           Cyprus        1\n",
              "5          Czechia        1\n",
              "6          Germany        2\n",
              "7          Denmark        1\n",
              "8          Estonia        1\n",
              "9           Greece        1\n",
              "10           Spain        2\n",
              "11         Finland        1\n",
              "12          France        2\n",
              "13         Croatia        1\n",
              "14         Hungary        1\n",
              "15         Ireland        1\n",
              "16         Iceland        1\n",
              "17           Italy        2\n",
              "18       Lithuania        1\n",
              "19      Luxembourg        1\n",
              "20          Latvia        1\n",
              "21           Malta        1\n",
              "22     Netherlands        1\n",
              "23          Norway        1\n",
              "24          Poland        2\n",
              "25        Portugal        1\n",
              "26         Romania        1\n",
              "27          Sweden        1\n",
              "28        Slovenia        1\n",
              "29        Slovakia        1\n",
              "30          Turkey        1\n",
              "31  United Kingdom        2"
            ]
          },
          "metadata": {
            "tags": []
          },
          "execution_count": 96
        }
      ]
    },
    {
      "cell_type": "code",
      "metadata": {
        "colab": {
          "base_uri": "https://localhost:8080/",
          "height": 278
        },
        "id": "2cw-yoGSdx6v",
        "outputId": "13237a5d-4249-4322-aff0-e08a73ea75bf"
      },
      "source": [
        "import seaborn as sns\n",
        "sns.countplot(x ='cluster', data = ctry_sum, palette = 'spring')\n",
        "plt.show()"
      ],
      "execution_count": 99,
      "outputs": [
        {
          "output_type": "display_data",
          "data": {
            "image/png": "[encoded data removed]",
            "text/plain": [
              "<Figure size 432x288 with 1 Axes>"
            ]
          },
          "metadata": {
            "tags": [],
            "needs_background": "light"
          }
        }
      ]
    }
  ]
}